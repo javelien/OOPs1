{
  "nbformat": 4,
  "nbformat_minor": 0,
  "metadata": {
    "colab": {
      "provenance": []
    },
    "kernelspec": {
      "name": "python3",
      "display_name": "Python 3"
    },
    "language_info": {
      "name": "python"
    }
  },
  "cells": [
    {
      "cell_type": "code",
      "execution_count": null,
      "metadata": {
        "id": "0zfFlpvIcckx"
      },
      "outputs": [],
      "source": [
        "#Q1 Explain the key features of Python that make it a popular choice for programming\n",
        "'''1. Readability and Simplicity:\n",
        "\n",
        "Python emphasizes clear and readable code with a syntax that closely resembles natural language (English). This makes it easier to learn, understand, and maintain.\n",
        "It uses indentation to define code blocks, which enforces code structure and reduces the need for excessive punctuation.\n",
        "2. Versatility and Flexibility:\n",
        "\n",
        "Python is a general-purpose language, meaning it can be used for a wide variety of tasks, including:\n",
        "Web development\n",
        "Data science\n",
        "Machine learning\n",
        "Scripting\n",
        "Automation\n",
        "It supports multiple programming paradigms, such as object-oriented, procedural, and functional programming.\n",
        "3. Rich Ecosystem of Libraries and Frameworks:\n",
        "\n",
        "Python has a vast collection of libraries and frameworks that provide pre-built functionalities for various tasks. This saves developers time and effort.\n",
        "Popular libraries include NumPy, Pandas, Matplotlib, Scikit-learn, TensorFlow, and Django.\n",
        "4. Large and Active Community:\n",
        "\n",
        "Python boasts a large and supportive community of developers worldwide. This means there are ample resources, tutorials, and forums available for assistance and collaboration.\n",
        "The active community also contributes to the ongoing development and improvement of the language.\n",
        "5. Cross-Platform Compatibility:\n",
        "\n",
        "Python code can run on various operating systems such as Windows, macOS, and Linux without requiring significant modifications. This portability makes it a versatile choice for development.\n",
        "6. Open-Source and Free:\n",
        "\n",
        "Python is open-source software, meaning it is free to use, distribute, and modify. This accessibility encourages wider adoption and fosters innovation within the community.\n",
        "7. Interpreted Language:\n",
        "\n",
        "Python code is executed line by line by an interpreter, which eliminates the need for compilation. This makes the development process faster and more interactive.\n",
        "8. Dynamically Typed:\n",
        "\n",
        "Variable types are checked during runtime, rather than at compile time. This flexibility can simplify development, but it requires careful attention to data types.\n",
        "These key features combined make Python a popular choice for beginners and experienced programmers alike. Its versatility, readability, and extensive ecosystem have led to its widespread adoption in various domains.'''"
      ]
    },
    {
      "cell_type": "code",
      "source": [
        "#Q2  Describe the role of predefined keywords in Python and provide examples of how they are used in a program\n",
        "'''Role of Predefined Keywords\n",
        "\n",
        "In Python, predefined keywords are reserved words that have special meanings and purposes. They cannot be used as identifiers (variable names, function names, etc.). These keywords are fundamental building blocks of the language and are used to define the structure and logic of your programs.\n",
        "\n",
        "Examples of Predefined Keywords and Their Usage\n",
        "\n",
        "Here are a few examples of commonly used keywords in Python and how they are typically employed:\n",
        "\n",
        "if, elif, else: Used for conditional statements to control the flow of execution based on conditions.\n",
        " '''\n",
        "age = 20\n",
        "if age >= 18:\n",
        "    print(\"You are an adult.\")\n",
        "else:\n",
        "    print(\"You are a minor.\")\n",
        "\n",
        "# for, while: Used for loops to repeat a block of code multiple times.f\n",
        "\n",
        "for i in range(5):\n",
        "    print(i)  # Output: 0 1 2 3 4\n",
        "\n",
        "count = 0  # This line was indented incorrectly\n",
        "while count < 3:\n",
        "    print(count)  # Output: 0 1 2\n",
        "    count += 1 # This line was indented incorrectly"
      ],
      "metadata": {
        "colab": {
          "base_uri": "https://localhost:8080/"
        },
        "id": "Q5fvudhzcs9h",
        "outputId": "ed2186eb-b4eb-4395-f512-d633ea97e072"
      },
      "execution_count": 3,
      "outputs": [
        {
          "output_type": "stream",
          "name": "stdout",
          "text": [
            "You are an adult.\n",
            "0\n",
            "1\n",
            "2\n",
            "3\n",
            "4\n",
            "0\n",
            "1\n",
            "2\n"
          ]
        }
      ]
    },
    {
      "cell_type": "code",
      "source": [
        "# Q3 Compare and contrast mutable and immutable objects in Python with examples\n",
        "'''Mutable Objects:\n",
        "\n",
        "Mutable objects are those whose internal state can be changed after they are created.\n",
        "Modifications to a mutable object directly affect the object itself without creating a new object.\n",
        "Examples of mutable objects in Python include:\n",
        "Lists (list)\n",
        "Dictionaries (dict)\n",
        "Sets (set)\n",
        "Example:'''\n",
        "\n",
        "\n",
        "my_list = [1, 2, 3]\n",
        "my_list[0] = 4  # Modifying the list in-place\n",
        "print(my_list)  # Output: [4, 2, 3]\n",
        "'''\n",
        "Immutable Objects:\n",
        "\n",
        "Immutable objects are those whose internal state cannot be changed after they are created.\n",
        "Any operation that appears to modify an immutable object actually creates a new object with the modified value.\n",
        "Examples of immutable objects in Python include:\n",
        "Numbers (int, float, complex)\n",
        "Strings (str)\n",
        "Tuples (tuple)\n",
        "Example:'''\n",
        "\n",
        "\n",
        "my_string = \"hello\"\n",
        "new_string = my_string.upper()  # Creates a new string\n",
        "print(my_string)  # Output: hello (original string remains unchanged)\n",
        "print(new_string)  # Output: HELLO (new string with modified value)\n",
        "'''\n",
        "Comparison:\n",
        "\n",
        "Feature\tMutable Objects\tImmutable Objects\n",
        "Modifiability\tCan be changed after creation\tCannot be changed after creation\n",
        "In-place Changes\tModifications directly affect the object\tModifications create a new object\n",
        "Examples\tLists, Dictionaries, Sets\tNumbers, Strings, Tuples\n",
        "Memory Usage\tMay require more memory due to potential changes\tGenerally more memory-efficient due to immutability\n",
        "Key Differences:\n",
        "\n",
        "Mutability: The fundamental difference lies in whether the object's internal state can be changed after creation.\n",
        "Object Identity: Modifying a mutable object alters its identity, while modifying an immutable object creates a new object with a new identity.\n",
        "Performance: Immutable objects can offer performance benefits in certain scenarios due to their immutability, such as in multi-threaded environments.'''"
      ],
      "metadata": {
        "colab": {
          "base_uri": "https://localhost:8080/",
          "height": 243
        },
        "id": "WKlpSMScei5b",
        "outputId": "1b8617db-1ce5-4ebf-a7b5-e9a3fb24132a"
      },
      "execution_count": 6,
      "outputs": [
        {
          "output_type": "stream",
          "name": "stdout",
          "text": [
            "[4, 2, 3]\n",
            "hello\n",
            "HELLO\n"
          ]
        },
        {
          "output_type": "execute_result",
          "data": {
            "text/plain": [
              "\"\\nComparison:\\n\\nFeature\\tMutable Objects\\tImmutable Objects\\nModifiability\\tCan be changed after creation\\tCannot be changed after creation\\nIn-place Changes\\tModifications directly affect the object\\tModifications create a new object\\nExamples\\tLists, Dictionaries, Sets\\tNumbers, Strings, Tuples\\nMemory Usage\\tMay require more memory due to potential changes\\tGenerally more memory-efficient due to immutability\\nKey Differences:\\n\\nMutability: The fundamental difference lies in whether the object's internal state can be changed after creation.\\nObject Identity: Modifying a mutable object alters its identity, while modifying an immutable object creates a new object with a new identity.\\nPerformance: Immutable objects can offer performance benefits in certain scenarios due to their immutability, such as in multi-threaded environments.\""
            ],
            "application/vnd.google.colaboratory.intrinsic+json": {
              "type": "string"
            }
          },
          "metadata": {},
          "execution_count": 6
        }
      ]
    },
    {
      "cell_type": "code",
      "source": [
        "# Q4 Explain the concept of type casting in Python with examples\n",
        "'''Type Casting\n",
        "\n",
        "Type casting, also known as type conversion, is the process of changing the data type of a variable from one type to another. In Python, you can perform type casting using built-in functions like int(), float(), str(), and others.\n",
        "\n",
        "Examples\n",
        "\n",
        "Here are a few examples demonstrating type casting in Python:\n",
        "\n",
        "Converting to Integer:'''\n",
        "num_str = \"123\"\n",
        "num_int = int(num_str)  # Converts string \"123\" to integer 123\n",
        "print(num_int)         # Output: 123\n",
        "print(type(num_int))   # Output: <class 'int'>\n",
        "\n",
        "# Converting to Float:\n",
        "price_str = \"34.99\" # Fixed: Removed extra indentation\n",
        "price_float = float(price_str)  # Converts string \"34.99\" to float 34.99\n",
        "print(price_float)            # Output: 34.99 # Fixed: Removed extra indentation\n",
        "print(type(price_float))      # Output: <class 'float'> # Fixed: Removed extra indentation\n",
        "\n",
        "# Converting to String:\n",
        "age = 25 # Fixed: Removed extra indentation\n",
        "age_str = str(age)  # Converts integer 25 to string \"25\"\n",
        "print(age_str)       # Output: 25 # Fixed: Removed extra indentation\n",
        "print(type(age_str)) # Output: <class 'str'> # Fixed: Removed extra indentation\n",
        "\n",
        "'''Why Type Casting?\n",
        "\n",
        "Type casting is useful in various scenarios, including:\n",
        "\n",
        "Input Processing: When taking user input, which is typically received as strings, you often need to convert it to the appropriate data type for calculations or other operations.\n",
        "Data Manipulation: Sometimes, you need to change the data type of a variable to perform specific operations or to ensure compatibility with certain functions or libraries.\n",
        "Data Formatting: Type casting can be used to format data for display or storage, such as converting numbers to strings for printing or storing them in a text file.\n",
        "Important Considerations\n",
        "\n",
        "Not all data types can be converted to each other. For example, trying to convert a string like \"hello\" to an integer would result in an error.\n",
        "Type casting can sometimes lead to data loss or unexpected results if not done carefully. For instance, converting a float to an integer would truncate the decimal part.'''"
      ],
      "metadata": {
        "colab": {
          "base_uri": "https://localhost:8080/",
          "height": 313
        },
        "id": "mDEq1y0kcs30",
        "outputId": "c78ba8ba-ced4-41f4-96e4-c63236e1a7c2"
      },
      "execution_count": 8,
      "outputs": [
        {
          "output_type": "stream",
          "name": "stdout",
          "text": [
            "123\n",
            "<class 'int'>\n",
            "34.99\n",
            "<class 'float'>\n",
            "25\n",
            "<class 'str'>\n"
          ]
        },
        {
          "output_type": "execute_result",
          "data": {
            "text/plain": [
              "'Why Type Casting?\\n\\nType casting is useful in various scenarios, including:\\n\\nInput Processing: When taking user input, which is typically received as strings, you often need to convert it to the appropriate data type for calculations or other operations.\\nData Manipulation: Sometimes, you need to change the data type of a variable to perform specific operations or to ensure compatibility with certain functions or libraries.\\nData Formatting: Type casting can be used to format data for display or storage, such as converting numbers to strings for printing or storing them in a text file.\\nImportant Considerations\\n\\nNot all data types can be converted to each other. For example, trying to convert a string like \"hello\" to an integer would result in an error.\\nType casting can sometimes lead to data loss or unexpected results if not done carefully. For instance, converting a float to an integer would truncate the decimal part.'"
            ],
            "application/vnd.google.colaboratory.intrinsic+json": {
              "type": "string"
            }
          },
          "metadata": {},
          "execution_count": 8
        }
      ]
    },
    {
      "cell_type": "code",
      "source": [
        "#Q5 Discuss the different types of operators in Python and provide examples of how they are used\n",
        "# Types of Operators\n",
        "\n",
        "# Python has a variety of operators that perform different operations on values and variables. Here are some common types:\n",
        "\n",
        "# Arithmetic Operators:\n",
        "\n",
        "# + (Addition)\n",
        "# - (Subtraction)\n",
        "# * (Multiplication)\n",
        "# / (Division)\n",
        "# % (Modulo - remainder of division)\n",
        "# ** (Exponentiation)\n",
        "# // (Floor Division - division result rounded down)\n",
        "# Example:\n",
        "\n",
        "x = 10\n",
        "y = 3\n",
        "print(x + y)  # Output: 13\n",
        "print(x - y)  # Output: 7\n",
        "print(x * y)  # Output: 30\n",
        "print(x / y)  # Output: 3.3333333333333335\n",
        "print(x % y)  # Output: 1\n",
        "print(x ** y) # Output: 1000\n",
        "print(x // y) # Output: 3\n",
        "\n",
        "# Comparison Operators:\n",
        "\n",
        "# == (Equal to)\n",
        "# != (Not equal to)\n",
        "# > (Greater than)\n",
        "# < (Less than)\n",
        "# >= (Greater than or equal to)\n",
        "# <= (Less than or equal to)\n",
        "# Example:\n",
        "\n",
        "\n",
        "# a = 5\n",
        "# b = 8\n",
        "# print(a == b)  # Output: False\n",
        "# print(a != b)  # Output: True\n",
        "# print(a > b)   # Output: False\n",
        "# print(a < b)   # Output: True\n",
        "# print(a >= b)  # Output: False\n",
        "# print(a <= b)  # Output: True\n",
        "\n",
        "# Logical Operators:\n",
        "\n",
        "# and (Logical AND)\n",
        "# or (Logical OR)\n",
        "# not (Logical NOT)\n",
        "# Example:\n",
        "\n",
        "p = True\n",
        "q = False\n",
        "print(p and q)  # Output: False\n",
        "print(p or q)   # Output: True\n",
        "print(not p)    # Output: False\n",
        "\n",
        "# Assignment Operators:\n",
        "\n",
        "# = (Assignment)\n",
        "# += (Add and assign)\n",
        "# -= (Subtract and assign)\n",
        "# *= (Multiply and assign)\n",
        "# /= (Divide and assign)\n",
        "# %= (Modulo and assign)\n",
        "# **= (Exponentiate and assign)\n",
        "# //= (Floor divide and assign)\n",
        "# Example:\n",
        "\n",
        "\n",
        "num = 10\n",
        "num += 5  # Equivalent to num = num + 5\n",
        "print(num)  # Output: 15\n",
        "\n",
        "# Bitwise Operators:\n",
        "\n",
        "# & (Bitwise AND)\n",
        "# | (Bitwise OR)\n",
        "# ^ (Bitwise XOR)\n",
        "# ~ (Bitwise NOT)\n",
        "# << (Left shift)\n",
        "# >> (Right shift)\n",
        "# Example:\n",
        "\n",
        "\n",
        "x = 5  # Binary: 00000101\n",
        "y = 3  # Binary: 00000011\n",
        "print(x & y)  # Output: 1 (Binary: 00000001)\n",
        "\n",
        "# Membership Operators:\n",
        "\n",
        "# in (Checks if a value is present in a sequence)\n",
        "# not in (Checks if a value is not present in a sequence)\n",
        "# Example:\n",
        "\n",
        "\n",
        "my_list = [1, 2, 3]\n",
        "print(2 in my_list)     # Output: True\n",
        "print(4 not in my_list) # Output: True\n",
        "\n",
        "# Identity Operators:\n",
        "\n",
        "# is (Checks if two variables refer to the same object)\n"
      ],
      "metadata": {
        "id": "m_CVGJ2Jcs1G"
      },
      "execution_count": null,
      "outputs": []
    },
    {
      "cell_type": "code",
      "source": [
        "#Q6  How do conditional statements work in Python? Illustrate with examples\n",
        "\n",
        "'''Conditional Statements in Python\n",
        "\n",
        "Conditional statements are used to control the flow of execution in a program based on certain conditions. They allow you to execute specific blocks of code only if a particular condition is true.\n",
        "\n",
        "if Statement\n",
        "\n",
        "The most basic conditional statement is the if statement. It checks a condition, and if the condition is true, it executes the code block indented under it.\n",
        "\n",
        "Syntax:'''\n",
        "\n",
        "\n",
        "'''if condition:\n",
        "    # Code to execute if condition is True'''\n",
        "# Example:\n",
        "\n",
        "age = 18\n",
        "if age >= 18:\n",
        "    print(\"You are an adult.\")\n",
        "\n",
        "\n",
        "\n",
        "'''The if-elif-else statement allows you to check multiple conditions in sequence. If the first if condition is false, it moves to the next elif condition, and so on. If none of the conditions are true, the else block is executed.\n",
        "\n",
        "Syntax:'''\n",
        "\n",
        "\n",
        "'''if condition1:\n",
        "    # Code to execute if condition1 is True\n",
        "elif condition2:\n",
        "    # Code to execute if condition2 is True\n",
        "else:\n",
        "    # Code to execute if none of the conditions are True'''\n"
      ],
      "metadata": {
        "colab": {
          "base_uri": "https://localhost:8080/",
          "height": 87
        },
        "id": "hppalj8ScsyJ",
        "outputId": "5550627a-ceb0-4491-b93d-1cf891cbe7f4"
      },
      "execution_count": 16,
      "outputs": [
        {
          "output_type": "stream",
          "name": "stdout",
          "text": [
            "You are an adult.\n"
          ]
        },
        {
          "output_type": "execute_result",
          "data": {
            "text/plain": [
              "'if condition1:\\n    # Code to execute if condition1 is True\\nelif condition2:\\n    # Code to execute if condition2 is True\\nelse:\\n    # Code to execute if none of the conditions are True'"
            ],
            "application/vnd.google.colaboratory.intrinsic+json": {
              "type": "string"
            }
          },
          "metadata": {},
          "execution_count": 16
        }
      ]
    },
    {
      "cell_type": "code",
      "source": [
        "#Q7 Describe the different types of loops in Python and their use cases with examples\n",
        "'''Types of Loops in Python\n",
        "Python primarily offers two types of loops:\n",
        "\n",
        "for loop: Used for iterating over a sequence (like a list, tuple, string, or range) or other iterable objects.\n",
        "while loop: Used for repeatedly executing a block of code as long as a condition is true.\n",
        "for Loop\n",
        "Use Cases:\n",
        "\n",
        "Iterating through a list of items: Processing each element of a list.\n",
        "Repeating a task a specific number of times: Using range() to define the iterations.\n",
        "Working with strings: Accessing individual characters or substrings.\n",
        "Example:'''\n",
        "\n",
        "\n",
        "# Iterating through a list\n",
        "fruits = [\"apple\", \"banana\", \"cherry\"]\n",
        "for fruit in fruits:\n",
        "    print(fruit)\n",
        "\n",
        "# Repeating a task 5 times\n",
        "for i in range(5):\n",
        "    print(i)\n",
        "\n",
        "# Working with a string\n",
        "message = \"Hello, world!\"\n",
        "for letter in message:\n",
        "    print(letter)\n",
        "\n",
        "'''while Loop\n",
        "Use Cases:\n",
        "\n",
        "Repeating a task until a condition is met: Continuing execution as long as the condition remains true.\n",
        "Creating interactive menus: Allowing user input to control the loop.\n",
        "Implementing algorithms that require iteration with a dynamic condition: For example, searching or sorting.\n",
        "Example:'''\n",
        "\n",
        "\n",
        "# Repeating until a counter reaches 5\n",
        "count = 0\n",
        "while count < 5:\n",
        "    print(count)\n",
        "    count += 1\n",
        "\n",
        "# Interactive menu\n",
        "choice = ''\n",
        "while choice != 'q':\n",
        "    choice = input(\"Enter your choice (q to quit): \")\n",
        "    print(\"You chose:\", choice)\n",
        "\n",
        "# Searching for a specific value in a list\n",
        "numbers = [1, 3, 5, 7, 9]\n",
        "target = 7\n",
        "found = False\n",
        "index = 0\n",
        "while index < len(numbers) and not found:\n",
        "    if numbers[index] == target:\n",
        "        found = True\n",
        "    else:\n",
        "        index += 1\n",
        "\n",
        "if found:\n",
        "    print(\"Target found at index:\", index)\n",
        "else:\n",
        "    print(\"Target not found in the list.\")"
      ],
      "metadata": {
        "colab": {
          "base_uri": "https://localhost:8080/"
        },
        "id": "XAtLGsXecsvh",
        "outputId": "b6b6062f-b8eb-46d6-935f-cecd77583fce"
      },
      "execution_count": 17,
      "outputs": [
        {
          "output_type": "stream",
          "name": "stdout",
          "text": [
            "apple\n",
            "banana\n",
            "cherry\n",
            "0\n",
            "1\n",
            "2\n",
            "3\n",
            "4\n",
            "H\n",
            "e\n",
            "l\n",
            "l\n",
            "o\n",
            ",\n",
            " \n",
            "w\n",
            "o\n",
            "r\n",
            "l\n",
            "d\n",
            "!\n",
            "0\n",
            "1\n",
            "2\n",
            "3\n",
            "4\n",
            "Enter your choice (q to quit): Q\n",
            "You chose: Q\n",
            "Enter your choice (q to quit): q\n",
            "You chose: q\n",
            "Target found at index: 3\n"
          ]
        }
      ]
    },
    {
      "cell_type": "code",
      "source": [],
      "metadata": {
        "id": "exSboqKgcss6"
      },
      "execution_count": null,
      "outputs": []
    },
    {
      "cell_type": "code",
      "source": [],
      "metadata": {
        "id": "VdIUU7QacspY"
      },
      "execution_count": null,
      "outputs": []
    },
    {
      "cell_type": "code",
      "source": [],
      "metadata": {
        "id": "v-OgoPDdcsnM"
      },
      "execution_count": null,
      "outputs": []
    },
    {
      "cell_type": "code",
      "source": [],
      "metadata": {
        "id": "JUX0wGNGcsll"
      },
      "execution_count": null,
      "outputs": []
    },
    {
      "cell_type": "code",
      "source": [],
      "metadata": {
        "id": "XXlZEY4_csh3"
      },
      "execution_count": null,
      "outputs": []
    },
    {
      "cell_type": "code",
      "source": [],
      "metadata": {
        "id": "cpdyPFCHcsfJ"
      },
      "execution_count": null,
      "outputs": []
    },
    {
      "cell_type": "code",
      "source": [],
      "metadata": {
        "id": "BwHnhoHJcscu"
      },
      "execution_count": null,
      "outputs": []
    },
    {
      "cell_type": "code",
      "source": [],
      "metadata": {
        "id": "w24RvE6icsan"
      },
      "execution_count": null,
      "outputs": []
    },
    {
      "cell_type": "code",
      "source": [],
      "metadata": {
        "id": "fB_oqw3PcsX9"
      },
      "execution_count": null,
      "outputs": []
    }
  ]
}